{
 "cells": [
  {
   "cell_type": "markdown",
   "metadata": {},
   "source": [
    "# Tweets Sentiment Analysis in Spanish\n",
    "\n",
    "In this project I use [tweepy library](https://www.tweepy.org/) to get tweets searching them by keyword. I then use [pysentimiento library](https://github.com/pysentimiento/pysentimiento/) to preprocess them and analyze sentiment and emotion expressed in them."
   ]
  },
  {
   "cell_type": "code",
   "execution_count": null,
   "metadata": {},
   "outputs": [],
   "source": [
    "#Importing tweepy and Twitter credentials\n",
    "import tweepy\n",
    "import configparser\n",
    "config = configparser.ConfigParser()\n",
    "config.read(\"../config/keys_config.cfg\")\n",
    "api_key = config.get(\"twitter\",\"api_key\")\n",
    "api_key_secret = config.get(\"twitter\",\"api_key_secret\")\n",
    "access_token = config.get(\"twitter\",\"access_token\")\n",
    "access_token_secret = config.get(\"twitter\",\"access_token_secret\")\n",
    "bearer_token = config.get(\"twitter\",\"bearer_token\")"
   ]
  },
  {
   "cell_type": "code",
   "execution_count": null,
   "metadata": {},
   "outputs": [],
   "source": [
    "#Creating a function that creates a pandas DataFrame with tweets we ask\n",
    "import requests\n",
    "import pandas as pd\n",
    "import numpy as np\n",
    "import json\n",
    "\n",
    "def get_tweets(query:str, n_results=1000):\n",
    "    \"\"\"\n",
    "    Receives a string of twitter API rule as query for search_recent_tweets endpoint. Example: \"carrefour argentina -is:retweet lang:es\"\n",
    "    Returns a pandas dataframe with text, created_ar, author_id and tweet_id columns.\n",
    "    Requires imported tweepy, requests, pandas as pd, numpy as np, json\n",
    "    \"\"\"\n",
    "    client = tweepy.Client(bearer_token=bearer_token, wait_on_rate_limit=True)\n",
    "    tweets = tweepy.Paginator(client.search_recent_tweets, query=query, tweet_fields=[\"created_at\", \"author_id\"], max_results=100)\n",
    "    df = pd.DataFrame(data=[[tweet.created_at, tweet.author_id, tweet.text] for tweet in tweets.flatten(limit=n_results)], columns=[\"Created_at\",\"Author_id\",\"Text\"])\n",
    "    return df"
   ]
  },
  {
   "cell_type": "code",
   "execution_count": 49,
   "metadata": {},
   "outputs": [
    {
     "data": {
      "text/html": [
       "<div>\n",
       "<style scoped>\n",
       "    .dataframe tbody tr th:only-of-type {\n",
       "        vertical-align: middle;\n",
       "    }\n",
       "\n",
       "    .dataframe tbody tr th {\n",
       "        vertical-align: top;\n",
       "    }\n",
       "\n",
       "    .dataframe thead th {\n",
       "        text-align: right;\n",
       "    }\n",
       "</style>\n",
       "<table border=\"1\" class=\"dataframe\">\n",
       "  <thead>\n",
       "    <tr style=\"text-align: right;\">\n",
       "      <th></th>\n",
       "      <th>Unnamed: 0</th>\n",
       "      <th>Created_at</th>\n",
       "      <th>Author_id</th>\n",
       "      <th>Text</th>\n",
       "      <th>Text_prep</th>\n",
       "    </tr>\n",
       "  </thead>\n",
       "  <tbody>\n",
       "    <tr>\n",
       "      <th>0</th>\n",
       "      <td>0</td>\n",
       "      <td>2022-06-28 20:16:24+00:00</td>\n",
       "      <td>1069053968</td>\n",
       "      <td>@fransanchez156 @rochi61975633 @Lilymir2 @cuervotinelli ¿desempleo con planes sociales incluidos? 7% ahora por ejemplo? qué ganas de creerles que tenés...\\nDe todos modos, lo que yo dije no es referente a De La Rúa, sino al actual gobierno que es peor de que el de De La Rúa.\\nDijiste adios, fijate si vas a seguir escribiendo boludeces.</td>\n",
       "      <td>@usuario @usuario @usuario @usuario ¿desempleo con planes sociales incluidos? 7% ahora por ejemplo? qué ganas de creerles que tenés...\\nDe todos modos, lo que yo dije no es referente a De La Rúa, sino al actual gobierno que es peor de que el de De La Rúa.\\nDijiste adios, fijate si vas a seguir escribiendo boludeces.</td>\n",
       "    </tr>\n",
       "    <tr>\n",
       "      <th>1</th>\n",
       "      <td>1</td>\n",
       "      <td>2022-06-28 20:11:13+00:00</td>\n",
       "      <td>1060318614589530113</td>\n",
       "      <td>@camboue Ustedes que hablaban de los planes sociales y bla bla bla y dibujan los números con los laburos esos x 2 mangos que dan las intendencias para salir a boconear.\\nLos únicos que se llenan de guita son ustedes, dejá de hablar de los laburantes, vos no representas a los laburantes</td>\n",
       "      <td>@usuario Ustedes que hablaban de los planes sociales y bla bla bla y dibujan los números con los laburos esos x 2 mangos que dan las intendencias para salir a boconear.\\nLos únicos que se llenan de guita son ustedes, dejá de hablar de los laburantes, vos no representas a los laburantes</td>\n",
       "    </tr>\n",
       "    <tr>\n",
       "      <th>2</th>\n",
       "      <td>2</td>\n",
       "      <td>2022-06-28 20:09:23+00:00</td>\n",
       "      <td>1498335195048652806</td>\n",
       "      <td>Klug reivindicó los planes sociales y celebró el debate del Salario Básico Universal https://t.co/BqcS2ibswb | @LuciaKlug @JuanGrabois @FrenteTodos_PBA @HCDiputadosBA @BAProvincia @CFKArgentina https://t.co/tHIyedbrrb</td>\n",
       "      <td>Klug reivindicó los planes sociales y celebró el debate del Salario Básico Universal url | @usuario @usuario @usuario @usuario @usuario @usuario url</td>\n",
       "    </tr>\n",
       "    <tr>\n",
       "      <th>3</th>\n",
       "      <td>3</td>\n",
       "      <td>2022-06-28 20:08:29+00:00</td>\n",
       "      <td>1509653648673968129</td>\n",
       "      <td>16:46-Planes sociales: Massa y Monzó proponen su conversión a empleo y que participen gobernadores e intendentes #Planes #sociales #Massa #Monzó #proponen #conversión #empleo #participen #gobernadores #intendentes  https://t.co/EbU8eZqYM3</td>\n",
       "      <td>16:46-Planes sociales: Massa y Monzó proponen su conversión a empleo y que participen gobernadores e intendentes planes sociales massa monzó proponen conversión empleo participen gobernadores intendentes  url</td>\n",
       "    </tr>\n",
       "    <tr>\n",
       "      <th>4</th>\n",
       "      <td>4</td>\n",
       "      <td>2022-06-28 20:08:15+00:00</td>\n",
       "      <td>1488261348144340998</td>\n",
       "      <td>@marioraulnegri CHARLATANES...los planes sociales hay que mantenerlos, donde vas a conseguir un empleado  por 10 $ y que te agradesca, un maestro por la 3°parte de lo que dice el convenio los gremios mudos y todos felices\\nEl mismo sistema sin ROBAR\\nFIRME SEÑOR PRESIDENTE\\nM. MACRI\\nSI SE PUEDE</td>\n",
       "      <td>@usuario CHARLATANES...los planes sociales hay que mantenerlos, donde vas a conseguir un empleado  por 10 $ y que te agradesca, un maestro por la 3parte de lo que dice el convenio los gremios mudos y todos felices\\nEl mismo sistema sin ROBAR\\nFIRME SEÑOR PRESIDENTE\\nM. MACRI\\nSI SE PUEDE</td>\n",
       "    </tr>\n",
       "    <tr>\n",
       "      <th>5</th>\n",
       "      <td>5</td>\n",
       "      <td>2022-06-28 20:02:57+00:00</td>\n",
       "      <td>709818306</td>\n",
       "      <td>Diputados de la oposición le reclamaron al Gobierno información sobre la distribución de los planes sociales https://t.co/LXC69zmr56</td>\n",
       "      <td>Diputados de la oposición le reclamaron al Gobierno información sobre la distribución de los planes sociales url</td>\n",
       "    </tr>\n",
       "    <tr>\n",
       "      <th>6</th>\n",
       "      <td>6</td>\n",
       "      <td>2022-06-28 19:58:26+00:00</td>\n",
       "      <td>61556916</td>\n",
       "      <td>@CarlosZelayaR Libertad? De quién de ustedes y su familia porque sus políticas mediocres no crean personas libres sino esclavos de planes sociales, inflación y sin libertad de expresión</td>\n",
       "      <td>@usuario Libertad? De quién de ustedes y su familia porque sus políticas mediocres no crean personas libres sino esclavos de planes sociales, inflación y sin libertad de expresión</td>\n",
       "    </tr>\n",
       "    <tr>\n",
       "      <th>7</th>\n",
       "      <td>7</td>\n",
       "      <td>2022-06-28 19:58:02+00:00</td>\n",
       "      <td>1031336857643180032</td>\n",
       "      <td>Cuando te de un poquito de lastima lo que le pase a Duhalde, acordate que por culpa de él apareció el monigote fallecido el día del censo y la del koleston rojizo. Si no era por él, hoy (de minima) tendríamos los mismos pobres y planes sociales que en 2002 y no tendríamos récord.</td>\n",
       "      <td>Cuando te de un poquito de lastima lo que le pase a Duhalde, acordate que por culpa de él apareció el monigote fallecido el día del censo y la del koleston rojizo. Si no era por él, hoy (de minima) tendríamos los mismos pobres y planes sociales que en 2002 y no tendríamos récord.</td>\n",
       "    </tr>\n",
       "    <tr>\n",
       "      <th>8</th>\n",
       "      <td>8</td>\n",
       "      <td>2022-06-28 19:57:18+00:00</td>\n",
       "      <td>69416519</td>\n",
       "      <td>Diputados de la oposición le reclamaron al Gobierno información sobre la distribución de los planes sociales https://t.co/z0cPWNtuvd</td>\n",
       "      <td>Diputados de la oposición le reclamaron al Gobierno información sobre la distribución de los planes sociales url</td>\n",
       "    </tr>\n",
       "    <tr>\n",
       "      <th>9</th>\n",
       "      <td>9</td>\n",
       "      <td>2022-06-28 19:47:10+00:00</td>\n",
       "      <td>140217913</td>\n",
       "      <td>🗣️ #DuroMensaje\\n\\nEl hijo del #ChinoNavarro, dirigente del #MovimientoEvita, cargó contra @CFKArgentina, que había cuestionado la tercerización de los planes sociales en manos de las organizaciones sociales.\\n\\n¿Qué le dijo? ¡Enterate acá! 👇 https://t.co/339lemquDU</td>\n",
       "      <td>emoji cabeza parlante emoji  duro mensaje\\n\\nEl hijo del chino navarro, dirigente del movimiento evita, cargó contra @usuario, que había cuestionado la tercerización de los planes sociales en manos de las organizaciones sociales.\\n\\n¿Qué le dijo? ¡Enterate acá!  emoji dorso de mano con índice hacia abajo emoji  url</td>\n",
       "    </tr>\n",
       "  </tbody>\n",
       "</table>\n",
       "</div>"
      ],
      "text/plain": [
       "   Unnamed: 0                 Created_at            Author_id  \\\n",
       "0  0           2022-06-28 20:16:24+00:00  1069053968            \n",
       "1  1           2022-06-28 20:11:13+00:00  1060318614589530113   \n",
       "2  2           2022-06-28 20:09:23+00:00  1498335195048652806   \n",
       "3  3           2022-06-28 20:08:29+00:00  1509653648673968129   \n",
       "4  4           2022-06-28 20:08:15+00:00  1488261348144340998   \n",
       "5  5           2022-06-28 20:02:57+00:00  709818306             \n",
       "6  6           2022-06-28 19:58:26+00:00  61556916              \n",
       "7  7           2022-06-28 19:58:02+00:00  1031336857643180032   \n",
       "8  8           2022-06-28 19:57:18+00:00  69416519              \n",
       "9  9           2022-06-28 19:47:10+00:00  140217913             \n",
       "\n",
       "                                                                                                                                                                                                                                                                                                                                                Text  \\\n",
       "0  @fransanchez156 @rochi61975633 @Lilymir2 @cuervotinelli ¿desempleo con planes sociales incluidos? 7% ahora por ejemplo? qué ganas de creerles que tenés...\\nDe todos modos, lo que yo dije no es referente a De La Rúa, sino al actual gobierno que es peor de que el de De La Rúa.\\nDijiste adios, fijate si vas a seguir escribiendo boludeces.   \n",
       "1  @camboue Ustedes que hablaban de los planes sociales y bla bla bla y dibujan los números con los laburos esos x 2 mangos que dan las intendencias para salir a boconear.\\nLos únicos que se llenan de guita son ustedes, dejá de hablar de los laburantes, vos no representas a los laburantes                                                      \n",
       "2  Klug reivindicó los planes sociales y celebró el debate del Salario Básico Universal https://t.co/BqcS2ibswb | @LuciaKlug @JuanGrabois @FrenteTodos_PBA @HCDiputadosBA @BAProvincia @CFKArgentina https://t.co/tHIyedbrrb                                                                                                                           \n",
       "3  16:46-Planes sociales: Massa y Monzó proponen su conversión a empleo y que participen gobernadores e intendentes #Planes #sociales #Massa #Monzó #proponen #conversión #empleo #participen #gobernadores #intendentes  https://t.co/EbU8eZqYM3                                                                                                      \n",
       "4  @marioraulnegri CHARLATANES...los planes sociales hay que mantenerlos, donde vas a conseguir un empleado  por 10 $ y que te agradesca, un maestro por la 3°parte de lo que dice el convenio los gremios mudos y todos felices\\nEl mismo sistema sin ROBAR\\nFIRME SEÑOR PRESIDENTE\\nM. MACRI\\nSI SE PUEDE                                            \n",
       "5  Diputados de la oposición le reclamaron al Gobierno información sobre la distribución de los planes sociales https://t.co/LXC69zmr56                                                                                                                                                                                                                \n",
       "6  @CarlosZelayaR Libertad? De quién de ustedes y su familia porque sus políticas mediocres no crean personas libres sino esclavos de planes sociales, inflación y sin libertad de expresión                                                                                                                                                           \n",
       "7  Cuando te de un poquito de lastima lo que le pase a Duhalde, acordate que por culpa de él apareció el monigote fallecido el día del censo y la del koleston rojizo. Si no era por él, hoy (de minima) tendríamos los mismos pobres y planes sociales que en 2002 y no tendríamos récord.                                                            \n",
       "8  Diputados de la oposición le reclamaron al Gobierno información sobre la distribución de los planes sociales https://t.co/z0cPWNtuvd                                                                                                                                                                                                                \n",
       "9  🗣️ #DuroMensaje\\n\\nEl hijo del #ChinoNavarro, dirigente del #MovimientoEvita, cargó contra @CFKArgentina, que había cuestionado la tercerización de los planes sociales en manos de las organizaciones sociales.\\n\\n¿Qué le dijo? ¡Enterate acá! 👇 https://t.co/339lemquDU                                                                          \n",
       "\n",
       "                                                                                                                                                                                                                                                                                                                       Text_prep  \n",
       "0  @usuario @usuario @usuario @usuario ¿desempleo con planes sociales incluidos? 7% ahora por ejemplo? qué ganas de creerles que tenés...\\nDe todos modos, lo que yo dije no es referente a De La Rúa, sino al actual gobierno que es peor de que el de De La Rúa.\\nDijiste adios, fijate si vas a seguir escribiendo boludeces.  \n",
       "1  @usuario Ustedes que hablaban de los planes sociales y bla bla bla y dibujan los números con los laburos esos x 2 mangos que dan las intendencias para salir a boconear.\\nLos únicos que se llenan de guita son ustedes, dejá de hablar de los laburantes, vos no representas a los laburantes                                 \n",
       "2  Klug reivindicó los planes sociales y celebró el debate del Salario Básico Universal url | @usuario @usuario @usuario @usuario @usuario @usuario url                                                                                                                                                                           \n",
       "3  16:46-Planes sociales: Massa y Monzó proponen su conversión a empleo y que participen gobernadores e intendentes planes sociales massa monzó proponen conversión empleo participen gobernadores intendentes  url                                                                                                               \n",
       "4  @usuario CHARLATANES...los planes sociales hay que mantenerlos, donde vas a conseguir un empleado  por 10 $ y que te agradesca, un maestro por la 3parte de lo que dice el convenio los gremios mudos y todos felices\\nEl mismo sistema sin ROBAR\\nFIRME SEÑOR PRESIDENTE\\nM. MACRI\\nSI SE PUEDE                               \n",
       "5  Diputados de la oposición le reclamaron al Gobierno información sobre la distribución de los planes sociales url                                                                                                                                                                                                               \n",
       "6  @usuario Libertad? De quién de ustedes y su familia porque sus políticas mediocres no crean personas libres sino esclavos de planes sociales, inflación y sin libertad de expresión                                                                                                                                            \n",
       "7  Cuando te de un poquito de lastima lo que le pase a Duhalde, acordate que por culpa de él apareció el monigote fallecido el día del censo y la del koleston rojizo. Si no era por él, hoy (de minima) tendríamos los mismos pobres y planes sociales que en 2002 y no tendríamos récord.                                       \n",
       "8  Diputados de la oposición le reclamaron al Gobierno información sobre la distribución de los planes sociales url                                                                                                                                                                                                               \n",
       "9  emoji cabeza parlante emoji  duro mensaje\\n\\nEl hijo del chino navarro, dirigente del movimiento evita, cargó contra @usuario, que había cuestionado la tercerización de los planes sociales en manos de las organizaciones sociales.\\n\\n¿Qué le dijo? ¡Enterate acá!  emoji dorso de mano con índice hacia abajo emoji  url   "
      ]
     },
     "execution_count": 49,
     "metadata": {},
     "output_type": "execute_result"
    }
   ],
   "source": [
    "import pandas as pd \n",
    "pd. set_option('display.max_colwidth', 1)\n",
    "# Incert query here\n",
    "query = \"planes sociales lang:es -is:retweet\"\n",
    "df = get_tweets(query=query, n_results=20000)\n",
    "df.head(10)"
   ]
  },
  {
   "cell_type": "code",
   "execution_count": null,
   "metadata": {},
   "outputs": [],
   "source": [
    "# Preprocess tweets\n",
    "# !pip install pysentimiento\n",
    "from pysentimiento.preprocessing import preprocess_tweet\n",
    "df[\"Text_prep\"] = df[\"Text\"].apply(preprocess_tweet)"
   ]
  },
  {
   "cell_type": "code",
   "execution_count": 50,
   "metadata": {},
   "outputs": [],
   "source": [
    "#Instantiate a sentiment analyzer\n",
    "from pysentimiento import create_analyzer\n",
    "analyzer = create_analyzer(task=\"sentiment\", lang=\"es\")\n",
    "df[\"sentiment\"] = df[\"Text\"].apply(analyzer.predict)\n",
    "df[\"sent_label\"] = df[\"sentiment\"].apply(lambda x: x.output)\n",
    "df[[\"sentiment\",\"sent_label\"]].head()"
   ]
  },
  {
   "cell_type": "code",
   "execution_count": 67,
   "metadata": {},
   "outputs": [
    {
     "data": {
      "text/plain": [
       "Text(0.5, 1.0, 'Sentimiento en tweets planes sociales')"
      ]
     },
     "execution_count": 67,
     "metadata": {},
     "output_type": "execute_result"
    },
    {
     "data": {
      "image/png": "[encoded data removed]",
      "text/plain": [
       "<Figure size 432x288 with 1 Axes>"
      ]
     },
     "metadata": {
      "needs_background": "light"
     },
     "output_type": "display_data"
    }
   ],
   "source": [
    "import matplotlib.pyplot as plt\n",
    "df_sent = df[\"sent_label\"].value_counts(normalize=True).sort_values()*100\n",
    "ax = df_sent.plot(kind=\"barh\", colormap=\"viridis\")\n",
    "ax.set_xlabel(\"Porcentaje\")\n",
    "ax.set_ylabel(\"Sentimiento\")\n",
    "ax.set_title(\"Sentimiento en tweets planes sociales\")"
   ]
  },
  {
   "cell_type": "code",
   "execution_count": 68,
   "metadata": {},
   "outputs": [
    {
     "data": {
      "text/plain": [
       "POS    2.76 \n",
       "NEU    44.42\n",
       "NEG    52.82\n",
       "Name: label, dtype: float64"
      ]
     },
     "execution_count": 68,
     "metadata": {},
     "output_type": "execute_result"
    }
   ],
   "source": [
    "df_sent"
   ]
  },
  {
   "cell_type": "code",
   "execution_count": 55,
   "metadata": {},
   "outputs": [
    {
     "name": "stderr",
     "output_type": "stream",
     "text": [
      "loading file https://huggingface.co/pysentimiento/robertuito-emotion-analysis/resolve/main/tokenizer.json from cache at C:\\Users\\Daria Kholodova/.cache\\huggingface\\transformers\\493237802ea94d02bfc7907883a3298b35a6cbd8d813fd11630c8c5056826a45.0843b07596b388e054bae078721182b4846b9e28a7bbf04d7079b274f8613ae3\n",
      "loading file https://huggingface.co/pysentimiento/robertuito-emotion-analysis/resolve/main/added_tokens.json from cache at None\n",
      "loading file https://huggingface.co/pysentimiento/robertuito-emotion-analysis/resolve/main/special_tokens_map.json from cache at C:\\Users\\Daria Kholodova/.cache\\huggingface\\transformers\\d36fe9b59af3e679efca2cfa00cffbc44be132ebc5ef39a61d32f5e60ee37ba2.0dc5b1041f62041ebbd23b1297f2f573769d5c97d8b7c28180ec86b8f6185aa8\n",
      "loading file https://huggingface.co/pysentimiento/robertuito-emotion-analysis/resolve/main/tokenizer_config.json from cache at C:\\Users\\Daria Kholodova/.cache\\huggingface\\transformers\\e5b58eb4110c09192df285dc3f632cae9b9474d810bb489a651effa5ddb2e2e9.50a2bcf7668df2ff5a82b7b0455533bb4c0db21e6e33565fa20fd7dc8a3be740\n",
      "loading configuration file https://huggingface.co/pysentimiento/robertuito-emotion-analysis/resolve/main/config.json from cache at C:\\Users\\Daria Kholodova/.cache\\huggingface\\transformers\\67cf0b22b25292bb1a3e1332f686c3c8cef2a203f1d7bccc6e801f16f7ae6e87.2e7a6ee7286c198ff851af16b0340004d73c5e8977413611e574ff14b9f7ff85\n",
      "Model config RobertaConfig {\n",
      "  \"_name_or_path\": \"pysentimiento/robertuito-emotion-analysis\",\n",
      "  \"architectures\": [\n",
      "    \"RobertaForSequenceClassification\"\n",
      "  ],\n",
      "  \"attention_probs_dropout_prob\": 0.1,\n",
      "  \"bos_token_id\": 0,\n",
      "  \"classifier_dropout\": null,\n",
      "  \"eos_token_id\": 2,\n",
      "  \"gradient_checkpointing\": false,\n",
      "  \"hidden_act\": \"gelu\",\n",
      "  \"hidden_dropout_prob\": 0.1,\n",
      "  \"hidden_size\": 768,\n",
      "  \"id2label\": {\n",
      "    \"0\": \"others\",\n",
      "    \"1\": \"joy\",\n",
      "    \"2\": \"sadness\",\n",
      "    \"3\": \"anger\",\n",
      "    \"4\": \"surprise\",\n",
      "    \"5\": \"disgust\",\n",
      "    \"6\": \"fear\"\n",
      "  },\n",
      "  \"initializer_range\": 0.02,\n",
      "  \"intermediate_size\": 3072,\n",
      "  \"label2id\": {\n",
      "    \"anger\": 3,\n",
      "    \"disgust\": 5,\n",
      "    \"fear\": 6,\n",
      "    \"joy\": 1,\n",
      "    \"others\": 0,\n",
      "    \"sadness\": 2,\n",
      "    \"surprise\": 4\n",
      "  },\n",
      "  \"layer_norm_eps\": 1e-12,\n",
      "  \"max_position_embeddings\": 130,\n",
      "  \"model_type\": \"roberta\",\n",
      "  \"num_attention_heads\": 12,\n",
      "  \"num_hidden_layers\": 12,\n",
      "  \"pad_token_id\": 1,\n",
      "  \"position_embedding_type\": \"absolute\",\n",
      "  \"problem_type\": \"single_label_classification\",\n",
      "  \"torch_dtype\": \"float32\",\n",
      "  \"transformers_version\": \"4.20.1\",\n",
      "  \"type_vocab_size\": 1,\n",
      "  \"use_cache\": true,\n",
      "  \"vocab_size\": 30002\n",
      "}\n",
      "\n",
      "loading weights file https://huggingface.co/pysentimiento/robertuito-emotion-analysis/resolve/main/pytorch_model.bin from cache at C:\\Users\\Daria Kholodova/.cache\\huggingface\\transformers\\2f1a9c49582b07d3a39d108c5f099e762035431ed1169b22bb2d38fc3bfae48a.7d53b944be3007f8a318a47e5ce75f52dca2d342065e83317d1134583696cf31\n",
      "All model checkpoint weights were used when initializing RobertaForSequenceClassification.\n",
      "\n",
      "All the weights of RobertaForSequenceClassification were initialized from the model checkpoint at pysentimiento/robertuito-emotion-analysis.\n",
      "If your task is similar to the task the model of the checkpoint was trained on, you can already use RobertaForSequenceClassification for predictions without further training.\n",
      "PyTorch: setting up devices\n",
      "The default value for the training argument `--report_to` will change in v5 (from all installed integrations to none). In v5, you will need to use `--report_to all` to get the same behavior as now. You should start updating your code and make this info disappear :-).\n"
     ]
    }
   ],
   "source": [
    "#Instantiate an emotion analyzer\n",
    "em_analyzer = create_analyzer(task=\"emotion\", lang=\"es\")\n",
    "df[\"emotion\"] = df[\"Text_prep\"].apply(em_analyzer.predict)\n",
    "df[\"em_label\"] = df[\"emotion\"].apply(lambda x: x.output)"
   ]
  },
  {
   "cell_type": "code",
   "execution_count": 66,
   "metadata": {},
   "outputs": [
    {
     "data": {
      "text/plain": [
       "Text(0.5, 1.0, 'Emociones en los tweets planes sociales')"
      ]
     },
     "execution_count": 66,
     "metadata": {},
     "output_type": "execute_result"
    },
    {
     "data": {
      "image/png": "[encoded data removed]",
      "text/plain": [
       "<Figure size 432x288 with 1 Axes>"
      ]
     },
     "metadata": {
      "needs_background": "light"
     },
     "output_type": "display_data"
    }
   ],
   "source": [
    "df_emotion = df[\"emocion_label\"].value_counts(normalize=True).sort_values()*100\n",
    "ax = df_emotion.plot(kind=\"barh\", colormap='viridis')\n",
    "ax.set_xlabel(\"Porcentaje\")\n",
    "ax.set_ylabel(\"Emoción\")\n",
    "ax.set_title(\"Emociones en los tweets planes sociales\")"
   ]
  },
  {
   "cell_type": "code",
   "execution_count": 69,
   "metadata": {},
   "outputs": [
    {
     "data": {
      "text/plain": [
       "disgust     0.16 \n",
       "surprise    0.16 \n",
       "sadness     0.28 \n",
       "joy         1.14 \n",
       "anger       25.30\n",
       "others      72.96\n",
       "Name: emocion_label, dtype: float64"
      ]
     },
     "execution_count": 69,
     "metadata": {},
     "output_type": "execute_result"
    }
   ],
   "source": [
    "df_emotion"
   ]
  }
 ],
 "metadata": {
  "kernelspec": {
   "display_name": "Python 3.10.4 64-bit",
   "language": "python",
   "name": "python3"
  },
  "language_info": {
   "codemirror_mode": {
    "name": "ipython",
    "version": 3
   },
   "file_extension": ".py",
   "mimetype": "text/x-python",
   "name": "python",
   "nbconvert_exporter": "python",
   "pygments_lexer": "ipython3",
   "version": "3.10.4"
  },
  "orig_nbformat": 4,
  "vscode": {
   "interpreter": {
    "hash": "a8aaefb5adee33683aaecdb345f2763abd2d0c163a1986ba0d4cda1f7b164074"
   }
  }
 },
 "nbformat": 4,
 "nbformat_minor": 2
}
