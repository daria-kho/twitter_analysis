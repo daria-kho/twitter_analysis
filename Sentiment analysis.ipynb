{
 "cells": [
  {
   "cell_type": "code",
   "execution_count": 1,
   "metadata": {},
   "outputs": [
    {
     "data": {
      "text/plain": [
       "\"\\nimport findspark\\nfindspark.init()\\n\\n# Import PySpark and initialize SparkContext object.\\nimport pyspark\\nsc = pyspark.SparkContext()\\n\\n# Read `recent-grads.csv` in to an RDD.\\nf = sc.textFile('recent-grads.csv')\\ndata = f.map(lambda line: line.split('\\n'))\\ndata.take(10)\\n\""
      ]
     },
     "execution_count": 1,
     "metadata": {},
     "output_type": "execute_result"
    }
   ],
   "source": [
    "\"\"\"\n",
    "import findspark\n",
    "findspark.init()\n",
    "\n",
    "# Import PySpark and initialize SparkContext object.\n",
    "import pyspark\n",
    "sc = pyspark.SparkContext()\n",
    "\n",
    "# Read `recent-grads.csv` in to an RDD.\n",
    "f = sc.textFile('recent-grads.csv')\n",
    "data = f.map(lambda line: line.split('\\n'))\n",
    "data.take(10)\n",
    "\"\"\""
   ]
  },
  {
   "cell_type": "code",
   "execution_count": 2,
   "metadata": {},
   "outputs": [
    {
     "name": "stdout",
     "output_type": "stream",
     "text": [
      "Requirement already satisfied: pysentimiento in c:\\users\\daria kholodova\\anaconda3\\lib\\site-packages (0.3.2)\n",
      "Requirement already satisfied: emoji<2.0.0,>=1.6.1 in c:\\users\\daria kholodova\\anaconda3\\lib\\site-packages (from pysentimiento) (1.7.0)\n",
      "Requirement already satisfied: datasets<2.0.0,>=1.13.3 in c:\\users\\daria kholodova\\anaconda3\\lib\\site-packages (from pysentimiento) (1.18.4)\n",
      "Requirement already satisfied: transformers<5.0.0,>=4.11.3 in c:\\users\\daria kholodova\\anaconda3\\lib\\site-packages (from pysentimiento) (4.20.1)\n",
      "Requirement already satisfied: torch<2.0.0,>=1.9.0 in c:\\users\\daria kholodova\\anaconda3\\lib\\site-packages (from pysentimiento) (1.11.0)\n",
      "Requirement already satisfied: sklearn<0.1,>=0.0 in c:\\users\\daria kholodova\\anaconda3\\lib\\site-packages (from pysentimiento) (0.0)\n",
      "Requirement already satisfied: fsspec[http]>=2021.05.0 in c:\\users\\daria kholodova\\anaconda3\\lib\\site-packages (from datasets<2.0.0,>=1.13.3->pysentimiento) (2022.2.0)\n",
      "Requirement already satisfied: multiprocess in c:\\users\\daria kholodova\\anaconda3\\lib\\site-packages (from datasets<2.0.0,>=1.13.3->pysentimiento) (0.70.13)\n",
      "Requirement already satisfied: packaging in c:\\users\\daria kholodova\\anaconda3\\lib\\site-packages (from datasets<2.0.0,>=1.13.3->pysentimiento) (21.3)\n",
      "Requirement already satisfied: pandas in c:\\users\\daria kholodova\\anaconda3\\lib\\site-packages (from datasets<2.0.0,>=1.13.3->pysentimiento) (1.4.2)\n",
      "Requirement already satisfied: xxhash in c:\\users\\daria kholodova\\anaconda3\\lib\\site-packages (from datasets<2.0.0,>=1.13.3->pysentimiento) (3.0.0)\n",
      "Requirement already satisfied: tqdm>=4.62.1 in c:\\users\\daria kholodova\\anaconda3\\lib\\site-packages (from datasets<2.0.0,>=1.13.3->pysentimiento) (4.64.0)\n",
      "Requirement already satisfied: numpy>=1.17 in c:\\users\\daria kholodova\\anaconda3\\lib\\site-packages (from datasets<2.0.0,>=1.13.3->pysentimiento) (1.21.5)\n",
      "Requirement already satisfied: aiohttp in c:\\users\\daria kholodova\\anaconda3\\lib\\site-packages (from datasets<2.0.0,>=1.13.3->pysentimiento) (3.8.1)\n",
      "Requirement already satisfied: requests>=2.19.0 in c:\\users\\daria kholodova\\anaconda3\\lib\\site-packages (from datasets<2.0.0,>=1.13.3->pysentimiento) (2.27.1)\n",
      "Requirement already satisfied: pyarrow!=4.0.0,>=3.0.0 in c:\\users\\daria kholodova\\anaconda3\\lib\\site-packages (from datasets<2.0.0,>=1.13.3->pysentimiento) (8.0.0)\n",
      "Requirement already satisfied: dill in c:\\users\\daria kholodova\\anaconda3\\lib\\site-packages (from datasets<2.0.0,>=1.13.3->pysentimiento) (0.3.5.1)\n",
      "Requirement already satisfied: responses<0.19 in c:\\users\\daria kholodova\\anaconda3\\lib\\site-packages (from datasets<2.0.0,>=1.13.3->pysentimiento) (0.18.0)\n",
      "Requirement already satisfied: huggingface-hub<1.0.0,>=0.1.0 in c:\\users\\daria kholodova\\anaconda3\\lib\\site-packages (from datasets<2.0.0,>=1.13.3->pysentimiento) (0.8.1)\n",
      "Requirement already satisfied: typing-extensions>=3.7.4.3 in c:\\users\\daria kholodova\\anaconda3\\lib\\site-packages (from huggingface-hub<1.0.0,>=0.1.0->datasets<2.0.0,>=1.13.3->pysentimiento) (4.1.1)\n",
      "Requirement already satisfied: pyyaml>=5.1 in c:\\users\\daria kholodova\\anaconda3\\lib\\site-packages (from huggingface-hub<1.0.0,>=0.1.0->datasets<2.0.0,>=1.13.3->pysentimiento) (6.0)\n",
      "Requirement already satisfied: filelock in c:\\users\\daria kholodova\\anaconda3\\lib\\site-packages (from huggingface-hub<1.0.0,>=0.1.0->datasets<2.0.0,>=1.13.3->pysentimiento) (3.6.0)\n",
      "Requirement already satisfied: pyparsing!=3.0.5,>=2.0.2 in c:\\users\\daria kholodova\\anaconda3\\lib\\site-packages (from packaging->datasets<2.0.0,>=1.13.3->pysentimiento) (3.0.4)\n",
      "Requirement already satisfied: urllib3<1.27,>=1.21.1 in c:\\users\\daria kholodova\\anaconda3\\lib\\site-packages (from requests>=2.19.0->datasets<2.0.0,>=1.13.3->pysentimiento) (1.26.9)\n",
      "Requirement already satisfied: charset-normalizer~=2.0.0 in c:\\users\\daria kholodova\\anaconda3\\lib\\site-packages (from requests>=2.19.0->datasets<2.0.0,>=1.13.3->pysentimiento) (2.0.4)\n",
      "Requirement already satisfied: idna<4,>=2.5 in c:\\users\\daria kholodova\\anaconda3\\lib\\site-packages (from requests>=2.19.0->datasets<2.0.0,>=1.13.3->pysentimiento) (3.3)\n",
      "Requirement already satisfied: certifi>=2017.4.17 in c:\\users\\daria kholodova\\anaconda3\\lib\\site-packages (from requests>=2.19.0->datasets<2.0.0,>=1.13.3->pysentimiento) (2021.10.8)\n",
      "Requirement already satisfied: scikit-learn in c:\\users\\daria kholodova\\anaconda3\\lib\\site-packages (from sklearn<0.1,>=0.0->pysentimiento) (1.0.2)\n",
      "Requirement already satisfied: colorama in c:\\users\\daria kholodova\\anaconda3\\lib\\site-packages (from tqdm>=4.62.1->datasets<2.0.0,>=1.13.3->pysentimiento) (0.4.4)\n",
      "Requirement already satisfied: regex!=2019.12.17 in c:\\users\\daria kholodova\\anaconda3\\lib\\site-packages (from transformers<5.0.0,>=4.11.3->pysentimiento) (2022.3.15)\n",
      "Requirement already satisfied: tokenizers!=0.11.3,<0.13,>=0.11.1 in c:\\users\\daria kholodova\\anaconda3\\lib\\site-packages (from transformers<5.0.0,>=4.11.3->pysentimiento) (0.12.1)\n",
      "Requirement already satisfied: multidict<7.0,>=4.5 in c:\\users\\daria kholodova\\anaconda3\\lib\\site-packages (from aiohttp->datasets<2.0.0,>=1.13.3->pysentimiento) (5.1.0)\n",
      "Requirement already satisfied: attrs>=17.3.0 in c:\\users\\daria kholodova\\anaconda3\\lib\\site-packages (from aiohttp->datasets<2.0.0,>=1.13.3->pysentimiento) (21.4.0)\n",
      "Requirement already satisfied: yarl<2.0,>=1.0 in c:\\users\\daria kholodova\\anaconda3\\lib\\site-packages (from aiohttp->datasets<2.0.0,>=1.13.3->pysentimiento) (1.6.3)\n",
      "Requirement already satisfied: async-timeout<5.0,>=4.0.0a3 in c:\\users\\daria kholodova\\anaconda3\\lib\\site-packages (from aiohttp->datasets<2.0.0,>=1.13.3->pysentimiento) (4.0.1)\n",
      "Requirement already satisfied: aiosignal>=1.1.2 in c:\\users\\daria kholodova\\anaconda3\\lib\\site-packages (from aiohttp->datasets<2.0.0,>=1.13.3->pysentimiento) (1.2.0)\n",
      "Requirement already satisfied: frozenlist>=1.1.1 in c:\\users\\daria kholodova\\anaconda3\\lib\\site-packages (from aiohttp->datasets<2.0.0,>=1.13.3->pysentimiento) (1.2.0)\n",
      "Requirement already satisfied: python-dateutil>=2.8.1 in c:\\users\\daria kholodova\\anaconda3\\lib\\site-packages (from pandas->datasets<2.0.0,>=1.13.3->pysentimiento) (2.8.2)\n",
      "Requirement already satisfied: pytz>=2020.1 in c:\\users\\daria kholodova\\anaconda3\\lib\\site-packages (from pandas->datasets<2.0.0,>=1.13.3->pysentimiento) (2021.3)\n",
      "Requirement already satisfied: six>=1.5 in c:\\users\\daria kholodova\\anaconda3\\lib\\site-packages (from python-dateutil>=2.8.1->pandas->datasets<2.0.0,>=1.13.3->pysentimiento) (1.16.0)\n",
      "Requirement already satisfied: threadpoolctl>=2.0.0 in c:\\users\\daria kholodova\\anaconda3\\lib\\site-packages (from scikit-learn->sklearn<0.1,>=0.0->pysentimiento) (2.2.0)\n",
      "Requirement already satisfied: joblib>=0.11 in c:\\users\\daria kholodova\\anaconda3\\lib\\site-packages (from scikit-learn->sklearn<0.1,>=0.0->pysentimiento) (1.1.0)\n",
      "Requirement already satisfied: scipy>=1.1.0 in c:\\users\\daria kholodova\\anaconda3\\lib\\site-packages (from scikit-learn->sklearn<0.1,>=0.0->pysentimiento) (1.7.3)\n"
     ]
    }
   ],
   "source": [
    "!pip install pysentimiento\n"
   ]
  },
  {
   "cell_type": "code",
   "execution_count": 4,
   "metadata": {},
   "outputs": [],
   "source": [
    "import pandas as pd\n",
    "from pysentimiento import create_analyzer\n",
    "pd. set_option('display.max_colwidth', 1)\n",
    "analyzer = create_analyzer(task=\"sentiment\", lang=\"es\")"
   ]
  },
  {
   "cell_type": "code",
   "execution_count": 5,
   "metadata": {},
   "outputs": [
    {
     "data": {
      "text/html": [
       "<div>\n",
       "<style scoped>\n",
       "    .dataframe tbody tr th:only-of-type {\n",
       "        vertical-align: middle;\n",
       "    }\n",
       "\n",
       "    .dataframe tbody tr th {\n",
       "        vertical-align: top;\n",
       "    }\n",
       "\n",
       "    .dataframe thead th {\n",
       "        text-align: right;\n",
       "    }\n",
       "</style>\n",
       "<table border=\"1\" class=\"dataframe\">\n",
       "  <thead>\n",
       "    <tr style=\"text-align: right;\">\n",
       "      <th></th>\n",
       "      <th>Unnamed: 0</th>\n",
       "      <th>Created_at</th>\n",
       "      <th>Author_id</th>\n",
       "      <th>Text</th>\n",
       "      <th>Text_prep</th>\n",
       "    </tr>\n",
       "  </thead>\n",
       "  <tbody>\n",
       "    <tr>\n",
       "      <th>0</th>\n",
       "      <td>0</td>\n",
       "      <td>2022-06-30 12:25:54+00:00</td>\n",
       "      <td>1500826416371355651</td>\n",
       "      <td>🗣️ Dialogamos con Lucía Barbier: \"Hoy se debatirá en el Concejo Deliberante. Seguramente pase a comisión. Hoy los planes sociales están centralizados en organizaciones sociales\".</td>\n",
       "      <td>emoji cabeza parlante emoji  Dialogamos con Lucía Barbier: \"Hoy se debatirá en el Concejo Deliberante. Seguramente pase a comisión. Hoy los planes sociales están centralizados en organizaciones sociales\".</td>\n",
       "    </tr>\n",
       "    <tr>\n",
       "      <th>1</th>\n",
       "      <td>1</td>\n",
       "      <td>2022-06-30 12:25:48+00:00</td>\n",
       "      <td>1416424043574710275</td>\n",
       "      <td>El Ñús sigue con que Walter Larrea estuvo harto picante en el Twitch de Asocia; basta de planes sociales; Feminismo popular; Bianco a lo Stiusso; la juventud del Frente Renovador; las sendas peatonales Orgullosas; y se viene un CEUM estilo NASA. \\n\\nLeelo👉 https://t.co/s5IfAivYoF</td>\n",
       "      <td>El Ñús sigue con que Walter Larrea estuvo harto picante en el Twitch de Asocia; basta de planes sociales; Feminismo popular; Bianco a lo Stiusso; la juventud del Frente Renovador; las sendas peatonales Orgullosas; y se viene un CEUM estilo NASA. \\n\\nLeelo emoji dorso de mano con índice a la derecha emoji  url</td>\n",
       "    </tr>\n",
       "    <tr>\n",
       "      <th>2</th>\n",
       "      <td>2</td>\n",
       "      <td>2022-06-30 12:25:42+00:00</td>\n",
       "      <td>196435835</td>\n",
       "      <td>Todo lo que usted debe saber respecto a los planes sociales, por José Cornejo https://t.co/6bniQ7NE3N</td>\n",
       "      <td>Todo lo que usted debe saber respecto a los planes sociales, por José Cornejo url</td>\n",
       "    </tr>\n",
       "    <tr>\n",
       "      <th>3</th>\n",
       "      <td>3</td>\n",
       "      <td>2022-06-30 12:25:34+00:00</td>\n",
       "      <td>196435835</td>\n",
       "      <td>Planes sociales y el horizonte de la política social argentina https://t.co/7TsgG3WmNs</td>\n",
       "      <td>Planes sociales y el horizonte de la política social argentina url</td>\n",
       "    </tr>\n",
       "    <tr>\n",
       "      <th>4</th>\n",
       "      <td>4</td>\n",
       "      <td>2022-06-30 12:24:59+00:00</td>\n",
       "      <td>1500826416371355651</td>\n",
       "      <td>🗣️ Dialogamos con Lucía Barbier: \"Queremos trabajar en la reconvensión de los planes sociales para que pasen a ser trabajos genuinos\".</td>\n",
       "      <td>emoji cabeza parlante emoji  Dialogamos con Lucía Barbier: \"Queremos trabajar en la reconvensión de los planes sociales para que pasen a ser trabajos genuinos\".</td>\n",
       "    </tr>\n",
       "    <tr>\n",
       "      <th>5</th>\n",
       "      <td>5</td>\n",
       "      <td>2022-06-30 12:24:49+00:00</td>\n",
       "      <td>196435835</td>\n",
       "      <td>Tinkunaco 0537/22 - Re: APU - Planes sociales y el horizonte de la política social argentina, por Manuela Bares Peralta https://t.co/1MJbbL8rD0 a través de @tinkunaco</td>\n",
       "      <td>Tinkunaco 0537/22 - Re: APU - Planes sociales y el horizonte de la política social argentina, por Manuela Bares Peralta url a través de @usuario</td>\n",
       "    </tr>\n",
       "    <tr>\n",
       "      <th>6</th>\n",
       "      <td>6</td>\n",
       "      <td>2022-06-30 12:19:30+00:00</td>\n",
       "      <td>1348782094529523716</td>\n",
       "      <td>Hubiera estado bueno que pongan de censistas a los que les regalan planes sociales con nuestra plata. Por un día que laburen no les iba a pasar nada.. https://t.co/3Posc5glg6</td>\n",
       "      <td>Hubiera estado bueno que pongan de censistas a los que les regalan planes sociales con nuestra plata. Por un día que laburen no les iba a pasar nada.. url</td>\n",
       "    </tr>\n",
       "    <tr>\n",
       "      <th>7</th>\n",
       "      <td>7</td>\n",
       "      <td>2022-06-30 12:19:07+00:00</td>\n",
       "      <td>132704571</td>\n",
       "      <td>El Gobierno será implacable con denuncias sobre planes sociales https://t.co/F8cGA4QQxV</td>\n",
       "      <td>El Gobierno será implacable con denuncias sobre planes sociales url</td>\n",
       "    </tr>\n",
       "    <tr>\n",
       "      <th>8</th>\n",
       "      <td>8</td>\n",
       "      <td>2022-06-30 12:17:39+00:00</td>\n",
       "      <td>1500826416371355651</td>\n",
       "      <td>🗣️ Dialogamos con Lucía Barbier (@lucia_barbier), Concejala de Juntos por el Cambio en La Plata.\\n\\n📌 Buscan que la Municipalidad pase a administrar los planes sociales.\\n\\nEscucha la entrevista en vivo por:  \\n📻 FM 95.3 - (@Sofiadelplata)\\n💻 https://t.co/IgclQzwzUq https://t.co/rs1P1l8HFb</td>\n",
       "      <td>emoji cabeza parlante emoji  Dialogamos con Lucía Barbier (@usuario), Concejala de Juntos por el Cambio en La Plata.\\n\\n emoji chincheta emoji  Buscan que la Municipalidad pase a administrar los planes sociales.\\n\\nEscucha la entrevista en vivo por:  \\n emoji radio emoji  FM 95.3 - (@usuario)\\n emoji ordenador portátil emoji  url url</td>\n",
       "    </tr>\n",
       "    <tr>\n",
       "      <th>9</th>\n",
       "      <td>9</td>\n",
       "      <td>2022-06-30 12:15:01+00:00</td>\n",
       "      <td>1384704796230311937</td>\n",
       "      <td>@zorroviko1 @sinprontuari0 Este gobierno duplicó los fondos destinados a planes sociales comparaDo a 2019 y algunos planes se multiplicaron por 4 o 5. Los comedores están abiertos por primera vez en la historia en enero y vacaciones de julio. Qué sería para vos hacerse más cargo como solución inmediata?</td>\n",
       "      <td>@usuario @usuario Este gobierno duplicó los fondos destinados a planes sociales comparaDo a 2019 y algunos planes se multiplicaron por 4 o 5. Los comedores están abiertos por primera vez en la historia en enero y vacaciones de julio. Qué sería para vos hacerse más cargo como solución inmediata?</td>\n",
       "    </tr>\n",
       "  </tbody>\n",
       "</table>\n",
       "</div>"
      ],
      "text/plain": [
       "   Unnamed: 0                 Created_at            Author_id  \\\n",
       "0  0           2022-06-30 12:25:54+00:00  1500826416371355651   \n",
       "1  1           2022-06-30 12:25:48+00:00  1416424043574710275   \n",
       "2  2           2022-06-30 12:25:42+00:00  196435835             \n",
       "3  3           2022-06-30 12:25:34+00:00  196435835             \n",
       "4  4           2022-06-30 12:24:59+00:00  1500826416371355651   \n",
       "5  5           2022-06-30 12:24:49+00:00  196435835             \n",
       "6  6           2022-06-30 12:19:30+00:00  1348782094529523716   \n",
       "7  7           2022-06-30 12:19:07+00:00  132704571             \n",
       "8  8           2022-06-30 12:17:39+00:00  1500826416371355651   \n",
       "9  9           2022-06-30 12:15:01+00:00  1384704796230311937   \n",
       "\n",
       "                                                                                                                                                                                                                                                                                                               Text  \\\n",
       "0  🗣️ Dialogamos con Lucía Barbier: \"Hoy se debatirá en el Concejo Deliberante. Seguramente pase a comisión. Hoy los planes sociales están centralizados en organizaciones sociales\".                                                                                                                                 \n",
       "1  El Ñús sigue con que Walter Larrea estuvo harto picante en el Twitch de Asocia; basta de planes sociales; Feminismo popular; Bianco a lo Stiusso; la juventud del Frente Renovador; las sendas peatonales Orgullosas; y se viene un CEUM estilo NASA. \\n\\nLeelo👉 https://t.co/s5IfAivYoF                           \n",
       "2  Todo lo que usted debe saber respecto a los planes sociales, por José Cornejo https://t.co/6bniQ7NE3N                                                                                                                                                                                                              \n",
       "3  Planes sociales y el horizonte de la política social argentina https://t.co/7TsgG3WmNs                                                                                                                                                                                                                             \n",
       "4  🗣️ Dialogamos con Lucía Barbier: \"Queremos trabajar en la reconvensión de los planes sociales para que pasen a ser trabajos genuinos\".                                                                                                                                                                             \n",
       "5  Tinkunaco 0537/22 - Re: APU - Planes sociales y el horizonte de la política social argentina, por Manuela Bares Peralta https://t.co/1MJbbL8rD0 a través de @tinkunaco                                                                                                                                             \n",
       "6  Hubiera estado bueno que pongan de censistas a los que les regalan planes sociales con nuestra plata. Por un día que laburen no les iba a pasar nada.. https://t.co/3Posc5glg6                                                                                                                                     \n",
       "7  El Gobierno será implacable con denuncias sobre planes sociales https://t.co/F8cGA4QQxV                                                                                                                                                                                                                            \n",
       "8  🗣️ Dialogamos con Lucía Barbier (@lucia_barbier), Concejala de Juntos por el Cambio en La Plata.\\n\\n📌 Buscan que la Municipalidad pase a administrar los planes sociales.\\n\\nEscucha la entrevista en vivo por:  \\n📻 FM 95.3 - (@Sofiadelplata)\\n💻 https://t.co/IgclQzwzUq https://t.co/rs1P1l8HFb                 \n",
       "9  @zorroviko1 @sinprontuari0 Este gobierno duplicó los fondos destinados a planes sociales comparaDo a 2019 y algunos planes se multiplicaron por 4 o 5. Los comedores están abiertos por primera vez en la historia en enero y vacaciones de julio. Qué sería para vos hacerse más cargo como solución inmediata?   \n",
       "\n",
       "                                                                                                                                                                                                                                                                                                                                         Text_prep  \n",
       "0  emoji cabeza parlante emoji  Dialogamos con Lucía Barbier: \"Hoy se debatirá en el Concejo Deliberante. Seguramente pase a comisión. Hoy los planes sociales están centralizados en organizaciones sociales\".                                                                                                                                     \n",
       "1  El Ñús sigue con que Walter Larrea estuvo harto picante en el Twitch de Asocia; basta de planes sociales; Feminismo popular; Bianco a lo Stiusso; la juventud del Frente Renovador; las sendas peatonales Orgullosas; y se viene un CEUM estilo NASA. \\n\\nLeelo emoji dorso de mano con índice a la derecha emoji  url                           \n",
       "2  Todo lo que usted debe saber respecto a los planes sociales, por José Cornejo url                                                                                                                                                                                                                                                                \n",
       "3  Planes sociales y el horizonte de la política social argentina url                                                                                                                                                                                                                                                                               \n",
       "4  emoji cabeza parlante emoji  Dialogamos con Lucía Barbier: \"Queremos trabajar en la reconvensión de los planes sociales para que pasen a ser trabajos genuinos\".                                                                                                                                                                                 \n",
       "5  Tinkunaco 0537/22 - Re: APU - Planes sociales y el horizonte de la política social argentina, por Manuela Bares Peralta url a través de @usuario                                                                                                                                                                                                 \n",
       "6  Hubiera estado bueno que pongan de censistas a los que les regalan planes sociales con nuestra plata. Por un día que laburen no les iba a pasar nada.. url                                                                                                                                                                                       \n",
       "7  El Gobierno será implacable con denuncias sobre planes sociales url                                                                                                                                                                                                                                                                              \n",
       "8  emoji cabeza parlante emoji  Dialogamos con Lucía Barbier (@usuario), Concejala de Juntos por el Cambio en La Plata.\\n\\n emoji chincheta emoji  Buscan que la Municipalidad pase a administrar los planes sociales.\\n\\nEscucha la entrevista en vivo por:  \\n emoji radio emoji  FM 95.3 - (@usuario)\\n emoji ordenador portátil emoji  url url  \n",
       "9  @usuario @usuario Este gobierno duplicó los fondos destinados a planes sociales comparaDo a 2019 y algunos planes se multiplicaron por 4 o 5. Los comedores están abiertos por primera vez en la historia en enero y vacaciones de julio. Qué sería para vos hacerse más cargo como solución inmediata?                                          "
      ]
     },
     "execution_count": 5,
     "metadata": {},
     "output_type": "execute_result"
    }
   ],
   "source": [
    "import pandas as pd \n",
    "planes = pd.read_csv(\"planes_20.csv\")\n",
    "planes.head(10)"
   ]
  },
  {
   "cell_type": "code",
   "execution_count": null,
   "metadata": {},
   "outputs": [],
   "source": [
    "planes.head()"
   ]
  },
  {
   "cell_type": "code",
   "execution_count": 6,
   "metadata": {},
   "outputs": [
    {
     "data": {
      "text/plain": [
       "0    emoji cabeza parlante emoji  Dialogamos con Lucía Barbier: \"Hoy se debatirá en el Concejo Deliberante. Seguramente pase a comisión. Hoy los planes sociales están centralizados en organizaciones sociales\".                                                                                                          \n",
       "1    El Ñús sigue con que Walter Larrea estuvo harto picante en el Twitch de Asocia; basta de planes sociales; Feminismo popular; Bianco a lo Stiusso; la juventud del Frente Renovador; las sendas peatonales Orgullosas; y se viene un CEUM estilo NASA. \\n\\nLeelo emoji dorso de mano con índice a la derecha emoji  url\n",
       "2    Todo lo que usted debe saber respecto a los planes sociales, por José Cornejo url                                                                                                                                                                                                                                     \n",
       "3    Planes sociales y el horizonte de la política social argentina url                                                                                                                                                                                                                                                    \n",
       "4    emoji cabeza parlante emoji  Dialogamos con Lucía Barbier: \"Queremos trabajar en la reconvensión de los planes sociales para que pasen a ser trabajos genuinos\".                                                                                                                                                      \n",
       "Name: Text_prep, dtype: object"
      ]
     },
     "execution_count": 6,
     "metadata": {},
     "output_type": "execute_result"
    }
   ],
   "source": [
    "from pysentimiento.preprocessing import preprocess_tweet\n",
    "planes[\"Text_prep\"] = planes[\"Text\"].apply(preprocess_tweet)\n",
    "planes[\"Text_prep\"].head()"
   ]
  },
  {
   "cell_type": "code",
   "execution_count": null,
   "metadata": {},
   "outputs": [],
   "source": [
    "planes[\"sentimiento\"] = planes[\"Text\"].apply(analyzer.predict)"
   ]
  },
  {
   "cell_type": "code",
   "execution_count": null,
   "metadata": {},
   "outputs": [],
   "source": [
    "planes[\"sentimiento\"].head()"
   ]
  },
  {
   "cell_type": "code",
   "execution_count": null,
   "metadata": {},
   "outputs": [],
   "source": [
    "planes[\"label\"] = planes[\"sentimiento\"].apply(lambda x: x.output)\n",
    "planes[\"label\"]"
   ]
  },
  {
   "cell_type": "code",
   "execution_count": null,
   "metadata": {},
   "outputs": [],
   "source": [
    "import matplotlib.pyplot as plt\n",
    "planes_label = planes[\"label\"].value_counts(normalize=True).sort_values()*100\n",
    "ax = planes_label.plot(kind=\"barh\", colormap=\"viridis\")\n",
    "ax.set_xlabel(\"Porcentaje\")\n",
    "ax.set_ylabel(\"Sentimiento\")\n",
    "ax.set_title(\"Sentimiento en tweets planes sociales\")"
   ]
  },
  {
   "cell_type": "code",
   "execution_count": null,
   "metadata": {},
   "outputs": [],
   "source": [
    "planes_label"
   ]
  },
  {
   "cell_type": "code",
   "execution_count": null,
   "metadata": {},
   "outputs": [],
   "source": [
    "em_analyzer = create_analyzer(task=\"emotion\", lang=\"es\")\n",
    "planes[\"emocion\"] = planes[\"Text_prep\"].apply(em_analyzer.predict)\n",
    "planes[\"emocion_label\"] = planes[\"emocion\"].apply(lambda x: x.output)"
   ]
  },
  {
   "cell_type": "code",
   "execution_count": null,
   "metadata": {},
   "outputs": [],
   "source": [
    "planes_vc = planes[\"emocion_label\"].value_counts(normalize=True).sort_values()*100\n",
    "ax = planes_vc.plot(kind=\"barh\", colormap='viridis')\n",
    "ax.set_xlabel(\"Porcentaje\")\n",
    "ax.set_ylabel(\"Emoción\")\n",
    "ax.set_title(\"Emociones en los tweets planes sociales\")"
   ]
  },
  {
   "cell_type": "code",
   "execution_count": null,
   "metadata": {},
   "outputs": [],
   "source": [
    "planes_vc"
   ]
  },
  {
   "cell_type": "code",
   "execution_count": null,
   "metadata": {},
   "outputs": [],
   "source": [
    "angry_planes = planes[planes[\"emocion_label\"]== \"anger\"]\n",
    "angry_planes[\"Text\"].sample(15)"
   ]
  },
  {
   "cell_type": "code",
   "execution_count": null,
   "metadata": {},
   "outputs": [],
   "source": [
    "happy_planes = planes[planes[\"sent_label\"]== \"POS\"]\n",
    "happy_planes[\"Text\"].sample(15, random_state=2)"
   ]
  },
  {
   "cell_type": "code",
   "execution_count": null,
   "metadata": {},
   "outputs": [],
   "source": []
  }
 ],
 "metadata": {
  "kernelspec": {
   "display_name": "Python 3.9.12 ('base')",
   "language": "python",
   "name": "python3"
  },
  "language_info": {
   "codemirror_mode": {
    "name": "ipython",
    "version": 3
   },
   "file_extension": ".py",
   "mimetype": "text/x-python",
   "name": "python",
   "nbconvert_exporter": "python",
   "pygments_lexer": "ipython3",
   "version": "3.9.12"
  },
  "orig_nbformat": 4,
  "vscode": {
   "interpreter": {
    "hash": "53cb940debb545a720dd6205c28a576c8f9e36d0cde128397b3c033ac650b062"
   }
  }
 },
 "nbformat": 4,
 "nbformat_minor": 2
}
