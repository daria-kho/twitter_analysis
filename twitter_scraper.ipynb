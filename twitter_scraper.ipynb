{
 "cells": [
  {
   "cell_type": "markdown",
   "metadata": {},
   "source": [
    "### Twitter Scaper and Sentiment Analysis in Spanish\n",
    "\n",
    "1. Authentication with Twitter Developer account"
   ]
  },
  {
   "cell_type": "code",
   "execution_count": 4,
   "metadata": {},
   "outputs": [],
   "source": [
    "import tweepy\n",
    "import configparser\n",
    "config = configparser.ConfigParser()\n",
    "config.read(\"../config/keys_config.cfg\")\n",
    "api_key = config.get(\"twitter\",\"api_key\")\n",
    "api_key_secret = config.get(\"twitter\",\"api_key_secret\")\n",
    "access_token = config.get(\"twitter\",\"access_token\")\n",
    "access_token_secret = config.get(\"twitter\",\"access_token_secret\")\n",
    "bearer_token = config.get(\"twitter\",\"bearer_token\")"
   ]
  },
  {
   "cell_type": "markdown",
   "metadata": {},
   "source": [
    "2.Function to receive tweets and save them to a pandas DataFrame"
   ]
  },
  {
   "cell_type": "code",
   "execution_count": 5,
   "metadata": {},
   "outputs": [],
   "source": [
    "import requests\n",
    "import pandas as pd\n",
    "import numpy as np\n",
    "import json\n",
    "\n",
    "def get_tweets(query:str, n_results=1000):\n",
    "    \"\"\"\n",
    "    Receives a string of twitter API rule as query for search_recent_tweets endpoint. Example: \"carrefour argentina -is:retweet lang:es\"\n",
    "    Returns a pandas dataframe with text, created_ar, author_id and tweet_id columns.\n",
    "    Requires imported tweepy, requests, pandas as pd, numpy as np, json\n",
    "    \"\"\"\n",
    "    client = tweepy.Client(bearer_token=bearer_token, wait_on_rate_limit=True)\n",
    "    tweets = tweepy.Paginator(client.search_recent_tweets, query=query, tweet_fields=[\"created_at\", \"author_id\"], max_results=100)\n",
    "    df = pd.DataFrame(data=[[tweet.created_at, tweet.author_id, tweet.text] for tweet in tweets.flatten(limit=n_results)], columns=[\"Created_at\",\"Author_id\",\"Text\"])\n",
    "    return df"
   ]
  },
  {
   "cell_type": "code",
   "execution_count": 5,
   "metadata": {},
   "outputs": [
    {
     "name": "stdout",
     "output_type": "stream",
     "text": [
      "Qué lata Josefina,pero veo que Latam te contestó. Aprovecho de comentarles mi pésima experiencia con Assist Card ojo con esta empresa. 15 meses reclamado reembolso por gastos de Covid en oficina central la tienen en Argentina, de ahí te tramitan, pufff\n",
      "primeras inoculaciones\n",
      "Mas información en o h...\n"
     ]
    }
   ],
   "source": [
    "def clean_tweet(tweet: str):\n",
    "    \"\"\"\n",
    "    Takes a text in string format.\n",
    "    Returns this string without mentions, links, new line characters etc.\n",
    "    \"\"\"\n",
    "    import re\n",
    "    clean_tweet = tweet.replace(\"\\n\", \" \")\n",
    "    clean_tweet = re.sub(\"(@[a-zA-Z0-9][a-zA-Z0-9]+)(_[a-zA-Z0-9]+)*\", \" \", clean_tweet)\n",
    "    clean_tweet = re.sub(\"(https?:\\/\\/(www\\.)?[-a-zA-Z0-9@:%._\\+~#=]{1,256}\\.[a-zA-Z0-9()]{1,6}([-a-zA-Z0-9()@:%_\\+.~#?&//=]*))\", \" \", clean_tweet)\n",
    "    clean_tweet = re.sub(\" +\", \" \", clean_tweet)\n",
    "    clean_tweet = clean_tweet.strip()\n",
    "    return clean_tweet\n",
    "\n",
    "def clean_df(df):\n",
    "    df[\"Text\"] = df[\"Text\"].apply(clean_tweet)\n",
    "    return df \n",
    "    \n",
    "tweet_1 = clean_tweet(\"@jo_araos @LATAM_CHI Qué lata Josefina,pero veo que Latam te contestó.\\nAprovecho de comentarles \\nmi pésima experiencia con Assist Card ojo con esta empresa.\\n 15 meses reclamado reembolso por gastos de Covid en https://t.co/lq7YjM3qmO oficina central la tienen en Argentina, de ahí te tramitan, pufff\")\n",
    "tweet_2 = clean_tweet(\"@opsoms @DrTedros  @opsomslas primeras inoculaciones\")\n",
    "tweet_3 = clean_tweet(\"Mas información en https://t.co/nTstpZsyrx o h...\")\n",
    "print(tweet_1)\n",
    "print(tweet_2)\n",
    "print(tweet_3)"
   ]
  },
  {
   "cell_type": "code",
   "execution_count": 6,
   "metadata": {},
   "outputs": [],
   "source": [
    "from sentiment_analysis_spanish import sentiment_analysis\n",
    "import matplotlib.pyplot as plt\n",
    "def add_sentiment(df):\n",
    "    sentiment = sentiment_analysis.SentimentAnalysisSpanish()\n",
    "    df[\"sentiment\"] = df[\"text\"].apply(sentiment.sentiment)\n",
    "    df[\"sent_label\"] = df[\"sentiment\"].apply(lambda x:\"positivo\" if x>=0.7 else (\"neutro\" if x>=0.3 and x<0.7 else \"negativo\"))\n",
    "    sent_counts = df[\"sent_label\"].value_counts()\n",
    "    return df\n",
    "\n",
    "def sentiment_count(df):\n",
    "    print(df[\"sent_label\"].value_counts())\n",
    "    return df[\"sent_label\"].plot.bar()\n"
   ]
  },
  {
   "cell_type": "code",
   "execution_count": 18,
   "metadata": {},
   "outputs": [
    {
     "data": {
      "text/html": [
       "<div>\n",
       "<style scoped>\n",
       "    .dataframe tbody tr th:only-of-type {\n",
       "        vertical-align: middle;\n",
       "    }\n",
       "\n",
       "    .dataframe tbody tr th {\n",
       "        vertical-align: top;\n",
       "    }\n",
       "\n",
       "    .dataframe thead th {\n",
       "        text-align: right;\n",
       "    }\n",
       "</style>\n",
       "<table border=\"1\" class=\"dataframe\">\n",
       "  <thead>\n",
       "    <tr style=\"text-align: right;\">\n",
       "      <th></th>\n",
       "      <th>Created_at</th>\n",
       "      <th>Author_id</th>\n",
       "      <th>Text</th>\n",
       "    </tr>\n",
       "  </thead>\n",
       "  <tbody>\n",
       "    <tr>\n",
       "      <th>0</th>\n",
       "      <td>2022-06-28 19:51:04+00:00</td>\n",
       "      <td>841026448513196032</td>\n",
       "      <td>Como diría el 🦛: Te preparaste toda tu vida para ésto!!! Hint: Si CFK apoya a Massita ahora, es porque le hace \"la gran pichichi\". Lo manda al frente para que se incinere.</td>\n",
       "    </tr>\n",
       "    <tr>\n",
       "      <th>1</th>\n",
       "      <td>2022-06-28 19:50:47+00:00</td>\n",
       "      <td>1194807433</td>\n",
       "      <td>Si quieren q los escuchen q les bloqueen las salidas de los domicilios de los q los llevaron a esto. MK el primero q hizo aprobar (2021) en el congreso la rebaja de 10a5% de biodiesel (soja)en la mezcla del gasoil para beneficiar a con la cámpora con YPF. Dps SM, CFK, AF. y de+</td>\n",
       "    </tr>\n",
       "    <tr>\n",
       "      <th>2</th>\n",
       "      <td>2022-06-28 19:50:28+00:00</td>\n",
       "      <td>252245585</td>\n",
       "      <td>De La A a la Z Reconocemos cada momento #Fan de #CFK? #Cristina ¡Aguante Cristina, manga de caretas¡</td>\n",
       "    </tr>\n",
       "    <tr>\n",
       "      <th>3</th>\n",
       "      <td>2022-06-28 19:50:15+00:00</td>\n",
       "      <td>1378568534490505216</td>\n",
       "      <td>Como lo sabe hacer la falsa abogada de cfk.</td>\n",
       "    </tr>\n",
       "    <tr>\n",
       "      <th>4</th>\n",
       "      <td>2022-06-28 19:50:07+00:00</td>\n",
       "      <td>3170981873</td>\n",
       "      <td>Así se expresó Juan Francisco Navarro, hijo del titular de la organización -\"Chino\" Navarro-, en una fuerte carta contra la vicepresidenta. \"Nuestra responsabilidad es no abandonar a nuestro pueblo. No gritarles o seguir estigmatizándolos\", disparó.</td>\n",
       "    </tr>\n",
       "  </tbody>\n",
       "</table>\n",
       "</div>"
      ],
      "text/plain": [
       "                 Created_at            Author_id  \\\n",
       "0 2022-06-28 19:51:04+00:00  841026448513196032    \n",
       "1 2022-06-28 19:50:47+00:00  1194807433            \n",
       "2 2022-06-28 19:50:28+00:00  252245585             \n",
       "3 2022-06-28 19:50:15+00:00  1378568534490505216   \n",
       "4 2022-06-28 19:50:07+00:00  3170981873            \n",
       "\n",
       "                                                                                                                                                                                                                                                                                     Text  \n",
       "0  Como diría el 🦛: Te preparaste toda tu vida para ésto!!! Hint: Si CFK apoya a Massita ahora, es porque le hace \"la gran pichichi\". Lo manda al frente para que se incinere.                                                                                                             \n",
       "1  Si quieren q los escuchen q les bloqueen las salidas de los domicilios de los q los llevaron a esto. MK el primero q hizo aprobar (2021) en el congreso la rebaja de 10a5% de biodiesel (soja)en la mezcla del gasoil para beneficiar a con la cámpora con YPF. Dps SM, CFK, AF. y de+  \n",
       "2  De La A a la Z Reconocemos cada momento #Fan de #CFK? #Cristina ¡Aguante Cristina, manga de caretas¡                                                                                                                                                                                    \n",
       "3  Como lo sabe hacer la falsa abogada de cfk.                                                                                                                                                                                                                                             \n",
       "4  Así se expresó Juan Francisco Navarro, hijo del titular de la organización -\"Chino\" Navarro-, en una fuerte carta contra la vicepresidenta. \"Nuestra responsabilidad es no abandonar a nuestro pueblo. No gritarles o seguir estigmatizándolos\", disparó.                               "
      ]
     },
     "execution_count": 18,
     "metadata": {},
     "output_type": "execute_result"
    }
   ],
   "source": [
    "pd. set_option('display.max_colwidth', 1)\n",
    "cristina = get_tweets(\"(Cristina Kirchner OR CFK) -is:retweet lang:es \", n_results=5000)\n",
    "cristina = clean_df(cristina)\n",
    "cristina.head()"
   ]
  },
  {
   "cell_type": "code",
   "execution_count": 22,
   "metadata": {},
   "outputs": [],
   "source": [
    "from pysentimiento.preprocessing import preprocess_tweet\n",
    "cristina[\"Text_prep\"] = cristina[\"Text\"].apply(preprocess_tweet)\n",
    "cristina.to_csv(\"cristina_5000.csv\")"
   ]
  },
  {
   "cell_type": "code",
   "execution_count": 23,
   "metadata": {},
   "outputs": [],
   "source": [
    "planes = get_tweets(\"planes sociales lang:es -is:retweet\", n_results = 5000)\n",
    "planes[\"Text_prep\"] = planes[\"Text\"].apply(preprocess_tweet)\n",
    "planes.to_csv(\"planes_5000.csv\")"
   ]
  },
  {
   "cell_type": "code",
   "execution_count": 7,
   "metadata": {},
   "outputs": [],
   "source": [
    "from pysentimiento.preprocessing import preprocess_tweet\n",
    "planes_20mil = get_tweets(\"planes sociales lang:es -is:retweet\", n_results=20000)\n",
    "planes_20mil[\"Text_prep\"] = planes_20mil[\"Text\"].apply(preprocess_tweet)\n",
    "planes_20mil.to_csv(\"planes_20.csv\")"
   ]
  },
  {
   "cell_type": "code",
   "execution_count": null,
   "metadata": {},
   "outputs": [],
   "source": []
  }
 ],
 "metadata": {
  "kernelspec": {
   "display_name": "Python 3.9.12 ('base')",
   "language": "python",
   "name": "python3"
  },
  "language_info": {
   "codemirror_mode": {
    "name": "ipython",
    "version": 3
   },
   "file_extension": ".py",
   "mimetype": "text/x-python",
   "name": "python",
   "nbconvert_exporter": "python",
   "pygments_lexer": "ipython3",
   "version": "3.9.12"
  },
  "orig_nbformat": 4,
  "vscode": {
   "interpreter": {
    "hash": "53cb940debb545a720dd6205c28a576c8f9e36d0cde128397b3c033ac650b062"
   }
  }
 },
 "nbformat": 4,
 "nbformat_minor": 2
}
